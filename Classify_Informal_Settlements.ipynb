{
  "nbformat": 4,
  "nbformat_minor": 0,
  "metadata": {
    "colab": {
      "name": "Classify Informal Settlements.ipynb",
      "version": "0.3.2",
      "provenance": [],
      "collapsed_sections": [],
      "include_colab_link": true
    },
    "kernelspec": {
      "name": "python3",
      "display_name": "Python 3"
    },
    "accelerator": "GPU"
  },
  "cells": [
    {
      "cell_type": "markdown",
      "metadata": {
        "id": "view-in-github",
        "colab_type": "text"
      },
      "source": [
        "<a href=\"https://colab.research.google.com/github/laruvinga/machinelearning/blob/master/Classify_Informal_Settlements.ipynb\" target=\"_parent\"><img src=\"https://colab.research.google.com/assets/colab-badge.svg\" alt=\"Open In Colab\"/></a>"
      ]
    },
    {
      "cell_type": "markdown",
      "metadata": {
        "id": "Z9drd42W52tA",
        "colab_type": "text"
      },
      "source": [
        "**Import all relevant libraries for model that will be using Keras.**"
      ]
    },
    {
      "cell_type": "code",
      "metadata": {
        "id": "FbTiFEjM36rd",
        "colab_type": "code",
        "colab": {}
      },
      "source": [
        "import keras\n",
        "import h5py\n",
        "import PIL.Image\n",
        "import os, shutil\n",
        "from tensorflow.keras.models import load_model\n",
        "from tensorflow.keras import layers\n",
        "from tensorflow.keras import models\n",
        "from tensorflow.keras.preprocessing.image import ImageDataGenerator\n",
        "from tensorflow.keras import optimizers\n",
        "from tensorflow.keras.preprocessing import image\n",
        "import numpy as np\n",
        "import matplotlib.pyplot as plt\n",
        "from tensorflow.keras.layers import LeakyReLU\n",
        "from tensorflow.keras.regularizers import l2\n",
        "from tensorflow.keras.applications.inception_v3 import preprocess_input\n",
        "import os\n",
        "import pprint\n",
        "import tensorflow as tf\n",
        "import shutil\n",
        "from sklearn.metrics import classification_report, confusion_matrix"
      ],
      "execution_count": 0,
      "outputs": []
    },
    {
      "cell_type": "code",
      "metadata": {
        "id": "fThCDf1XJm6v",
        "colab_type": "code",
        "outputId": "545af97b-e406-4ee9-ff52-5f9953b69d97",
        "colab": {
          "base_uri": "https://localhost:8080/",
          "height": 51
        }
      },
      "source": [
        "print(tf.__version__)\n",
        "print(tf.keras.__version__)"
      ],
      "execution_count": 137,
      "outputs": [
        {
          "output_type": "stream",
          "text": [
            "1.14.0\n",
            "2.2.4-tf\n"
          ],
          "name": "stdout"
        }
      ]
    },
    {
      "cell_type": "code",
      "metadata": {
        "id": "Ri2fxj1l7pnT",
        "colab_type": "code",
        "outputId": "40be8195-e720-4370-ca44-f7dc2089dfe0",
        "colab": {
          "base_uri": "https://localhost:8080/",
          "height": 54
        }
      },
      "source": [
        "from google.colab import drive\n",
        "drive.mount('/content/drive')"
      ],
      "execution_count": 138,
      "outputs": [
        {
          "output_type": "stream",
          "text": [
            "Drive already mounted at /content/drive; to attempt to forcibly remount, call drive.mount(\"/content/drive\", force_remount=True).\n"
          ],
          "name": "stdout"
        }
      ]
    },
    {
      "cell_type": "code",
      "metadata": {
        "id": "eUj2oX7a6ywy",
        "colab_type": "code",
        "colab": {}
      },
      "source": [
        "dataset_dir = \"/content/drive/My Drive/SatelliteML/Test_101\"\n",
        "dataset = \"/tmp/byo_ngozi.tar.bz2\"\n",
        "train_dir = \"/tmp/dataset/train\";\n",
        "valid_dir = \"/tmp/dataset/valid\";\n",
        "dataset_url = \"https://github.com/laruvinga/machinelearning/raw/master/byo_ngozi.tar.bz2\""
      ],
      "execution_count": 0,
      "outputs": []
    },
    {
      "cell_type": "code",
      "metadata": {
        "id": "liBqH8anxPaL",
        "colab_type": "code",
        "colab": {
          "base_uri": "https://localhost:8080/",
          "height": 34
        },
        "outputId": "cdd0c587-8065-4e59-f00e-f143dc5a4cdd"
      },
      "source": [
        "tf.keras.utils.get_file(dataset, dataset_url)"
      ],
      "execution_count": 140,
      "outputs": [
        {
          "output_type": "execute_result",
          "data": {
            "text/plain": [
              "'/tmp/byo_ngozi.tar.bz2'"
            ]
          },
          "metadata": {
            "tags": []
          },
          "execution_count": 140
        }
      ]
    },
    {
      "cell_type": "code",
      "metadata": {
        "id": "POrk5ukKLhUz",
        "colab_type": "code",
        "colab": {}
      },
      "source": [
        "shutil.unpack_archive(dataset, \"/tmp/dataset\", \"bztar\")"
      ],
      "execution_count": 0,
      "outputs": []
    },
    {
      "cell_type": "code",
      "metadata": {
        "id": "Jb08E-kvABvN",
        "colab_type": "code",
        "outputId": "4684b2f1-424f-4c4a-ac00-3bd970d32733",
        "colab": {
          "base_uri": "https://localhost:8080/",
          "height": 51
        }
      },
      "source": [
        "#train using data augmentation and dropout\n",
        "train_datagen = ImageDataGenerator(\n",
        "                    preprocessing_function=preprocess_input,\n",
        "                    rescale = 1./255,\n",
        "                    rotation_range = 40,\n",
        "                    width_shift_range = 0.2,\n",
        "                    height_shift_range = 0.2,\n",
        "                    shear_range = 0.2,\n",
        "                    zoom_range = 0.2,\n",
        "                    horizontal_flip = True)\n",
        "validation_datagen = ImageDataGenerator(rescale = 1./255) #validation data should not be augmented\n",
        "\n",
        "train_generator = train_datagen.flow_from_directory(\n",
        "                    train_dir, \n",
        "                    target_size = (28,28),\n",
        "                    batch_size = 1,\n",
        "                    class_mode = 'binary')\n",
        "validation_generator = validation_datagen.flow_from_directory(\n",
        "                  valid_dir, \n",
        "                  target_size = (28,28),\n",
        "                  batch_size = 1,\n",
        "                  class_mode = 'binary')\n",
        "\n",
        "STEP_SIZE_TRAIN = 16 # train_generator.n//train_generator.batch_size\n",
        "STEP_SIZE_VALID = 10 # validation_generator.n//validation_generator.batch_size"
      ],
      "execution_count": 142,
      "outputs": [
        {
          "output_type": "stream",
          "text": [
            "Found 58 images belonging to 2 classes.\n",
            "Found 20 images belonging to 2 classes.\n"
          ],
          "name": "stdout"
        }
      ]
    },
    {
      "cell_type": "code",
      "metadata": {
        "id": "TxzPOp86IrL3",
        "colab_type": "code",
        "colab": {}
      },
      "source": [
        "def create_model():\n",
        "  # with strategy.scope():\n",
        "  model = models.Sequential()\n",
        "  model.add(layers.Conv2D(32,(3,3), activation = 'relu', input_shape = (150,150,3)))\n",
        "  model.add(layers.MaxPooling2D((2,2)))\n",
        "  model.add(layers.Conv2D(64,(3,3), activation = 'relu'))\n",
        "  model.add(layers.MaxPooling2D((2,2)))\n",
        "  model.add(layers.Conv2D(128,(3,3), activation = 'relu'))\n",
        "  model.add(layers.MaxPooling2D((2,2)))\n",
        "  model.add(layers.Conv2D(256,(3,3), activation = 'relu'))\n",
        "  model.add(layers.MaxPooling2D((2,2)))\n",
        "  model.add(layers.Flatten())\n",
        "  model.add(layers.Dense(512, activation = 'relu'))\n",
        "  model.add(layers.Dropout(0.5))\n",
        "  model.add(layers.Dense(1, activation = 'sigmoid'))\n",
        "  return model"
      ],
      "execution_count": 0,
      "outputs": []
    },
    {
      "cell_type": "code",
      "metadata": {
        "id": "Ow913wYbB16S",
        "colab_type": "code",
        "outputId": "b6b98f31-20b3-4323-c677-ddc6ce0580be",
        "colab": {
          "base_uri": "https://localhost:8080/",
          "height": 459
        }
      },
      "source": [
        "model = create_model()\n",
        "model.compile(loss = 'binary_crossentropy', optimizer = 'adam', metrics = ['accuracy'])\n",
        "# model = create_model2()\n",
        "# model.compile(optimizer='adam', loss='sparse_categorical_crossentropy', metrics=['accuracy'])\n",
        "model.summary()"
      ],
      "execution_count": 144,
      "outputs": [
        {
          "output_type": "stream",
          "text": [
            "Model: \"sequential_14\"\n",
            "_________________________________________________________________\n",
            "Layer (type)                 Output Shape              Param #   \n",
            "=================================================================\n",
            "conv2d_47 (Conv2D)           (None, 26, 26, 32)        896       \n",
            "_________________________________________________________________\n",
            "max_pooling2d_36 (MaxPooling (None, 13, 13, 32)        0         \n",
            "_________________________________________________________________\n",
            "conv2d_48 (Conv2D)           (None, 11, 11, 64)        18496     \n",
            "_________________________________________________________________\n",
            "max_pooling2d_37 (MaxPooling (None, 5, 5, 64)          0         \n",
            "_________________________________________________________________\n",
            "conv2d_49 (Conv2D)           (None, 3, 3, 64)          36928     \n",
            "_________________________________________________________________\n",
            "max_pooling2d_38 (MaxPooling (None, 1, 1, 64)          0         \n",
            "_________________________________________________________________\n",
            "flatten_11 (Flatten)         (None, 64)                0         \n",
            "_________________________________________________________________\n",
            "dense_22 (Dense)             (None, 64)                4160      \n",
            "_________________________________________________________________\n",
            "dense_23 (Dense)             (None, 1)                 65        \n",
            "=================================================================\n",
            "Total params: 60,545\n",
            "Trainable params: 60,545\n",
            "Non-trainable params: 0\n",
            "_________________________________________________________________\n"
          ],
          "name": "stdout"
        }
      ]
    },
    {
      "cell_type": "code",
      "metadata": {
        "id": "YkOcMzZ1a7ki",
        "colab_type": "code",
        "outputId": "f32409e7-7150-4b7a-9f37-88bdb0bb20f3",
        "colab": {
          "base_uri": "https://localhost:8080/",
          "height": 1000
        }
      },
      "source": [
        "\n",
        "#train the model with fit_generator\n",
        "history = model.fit_generator(\n",
        "      train_generator,\n",
        "      steps_per_epoch= STEP_SIZE_TRAIN,\n",
        "      epochs=100,\n",
        "      validation_data=validation_generator,\n",
        "      validation_steps=STEP_SIZE_VALID\n",
        " )\n",
        "\n",
        "# history = model.fit(train_ds, epochs=10, steps_per_epoch=100, shuffle=False, workers=8)\n",
        "\n",
        "#Save model after training\n",
        "model.save(dataset_dir + '/slums_model_100.h5', overwrite=True)"
      ],
      "execution_count": 145,
      "outputs": [
        {
          "output_type": "stream",
          "text": [
            "Epoch 1/100\n",
            "16/16 [==============================] - 2s 104ms/step - loss: 0.6916 - acc: 0.6250 - val_loss: 0.7101 - val_acc: 0.5000\n",
            "Epoch 2/100\n",
            "16/16 [==============================] - 0s 15ms/step - loss: 0.6998 - acc: 0.3750 - val_loss: 0.7012 - val_acc: 0.5000\n",
            "Epoch 3/100\n",
            "16/16 [==============================] - 0s 17ms/step - loss: 0.6938 - acc: 0.5000 - val_loss: 0.6967 - val_acc: 0.5000\n",
            "Epoch 4/100\n",
            "16/16 [==============================] - 0s 21ms/step - loss: 0.6929 - acc: 0.5625 - val_loss: 0.6959 - val_acc: 0.5000\n",
            "Epoch 5/100\n",
            "16/16 [==============================] - 0s 17ms/step - loss: 0.6957 - acc: 0.2500 - val_loss: 0.6953 - val_acc: 0.5000\n",
            "Epoch 6/100\n",
            "16/16 [==============================] - 0s 17ms/step - loss: 0.6935 - acc: 0.4375 - val_loss: 0.6956 - val_acc: 0.5000\n",
            "Epoch 7/100\n",
            "16/16 [==============================] - 0s 15ms/step - loss: 0.6941 - acc: 0.5000 - val_loss: 0.6950 - val_acc: 0.5000\n",
            "Epoch 8/100\n",
            "16/16 [==============================] - 0s 22ms/step - loss: 0.6942 - acc: 0.4375 - val_loss: 0.6950 - val_acc: 0.5000\n",
            "Epoch 9/100\n",
            "16/16 [==============================] - 0s 16ms/step - loss: 0.6913 - acc: 0.6875 - val_loss: 0.6954 - val_acc: 0.5000\n",
            "Epoch 10/100\n",
            "16/16 [==============================] - 0s 16ms/step - loss: 0.6980 - acc: 0.3125 - val_loss: 0.6950 - val_acc: 0.5000\n",
            "Epoch 11/100\n",
            "16/16 [==============================] - 0s 18ms/step - loss: 0.6945 - acc: 0.5625 - val_loss: 0.6949 - val_acc: 0.5000\n",
            "Epoch 12/100\n",
            "16/16 [==============================] - 0s 16ms/step - loss: 0.6932 - acc: 0.5000 - val_loss: 0.6950 - val_acc: 0.5000\n",
            "Epoch 13/100\n",
            "16/16 [==============================] - 0s 17ms/step - loss: 0.6917 - acc: 0.6250 - val_loss: 0.6951 - val_acc: 0.5000\n",
            "Epoch 14/100\n",
            "16/16 [==============================] - 0s 17ms/step - loss: 0.6958 - acc: 0.3750 - val_loss: 0.6950 - val_acc: 0.5000\n",
            "Epoch 15/100\n",
            "16/16 [==============================] - 0s 21ms/step - loss: 0.6939 - acc: 0.4375 - val_loss: 0.6949 - val_acc: 0.5000\n",
            "Epoch 16/100\n",
            "16/16 [==============================] - 0s 16ms/step - loss: 0.6933 - acc: 0.5000 - val_loss: 0.6949 - val_acc: 0.5000\n",
            "Epoch 17/100\n",
            "16/16 [==============================] - 0s 17ms/step - loss: 0.6933 - acc: 0.5000 - val_loss: 0.6949 - val_acc: 0.5000\n",
            "Epoch 18/100\n",
            "16/16 [==============================] - 0s 16ms/step - loss: 0.6931 - acc: 0.5625 - val_loss: 0.6950 - val_acc: 0.5000\n",
            "Epoch 19/100\n",
            "16/16 [==============================] - 0s 22ms/step - loss: 0.6943 - acc: 0.3125 - val_loss: 0.6948 - val_acc: 0.5000\n",
            "Epoch 20/100\n",
            "16/16 [==============================] - 0s 16ms/step - loss: 0.6934 - acc: 0.4375 - val_loss: 0.6948 - val_acc: 0.5000\n",
            "Epoch 21/100\n",
            "16/16 [==============================] - 0s 17ms/step - loss: 0.6939 - acc: 0.2500 - val_loss: 0.6949 - val_acc: 0.5000\n",
            "Epoch 22/100\n",
            "16/16 [==============================] - 0s 18ms/step - loss: 0.6932 - acc: 0.5000 - val_loss: 0.6950 - val_acc: 0.5000\n",
            "Epoch 23/100\n",
            "16/16 [==============================] - 0s 16ms/step - loss: 0.6927 - acc: 0.6250 - val_loss: 0.6950 - val_acc: 0.5000\n",
            "Epoch 24/100\n",
            "16/16 [==============================] - 0s 15ms/step - loss: 0.6936 - acc: 0.4375 - val_loss: 0.6950 - val_acc: 0.5000\n",
            "Epoch 25/100\n",
            "16/16 [==============================] - 0s 16ms/step - loss: 0.6937 - acc: 0.4375 - val_loss: 0.6950 - val_acc: 0.5000\n",
            "Epoch 26/100\n",
            "16/16 [==============================] - 0s 22ms/step - loss: 0.6937 - acc: 0.3750 - val_loss: 0.6949 - val_acc: 0.5000\n",
            "Epoch 27/100\n",
            "16/16 [==============================] - 0s 16ms/step - loss: 0.6932 - acc: 0.4375 - val_loss: 0.6948 - val_acc: 0.5000\n",
            "Epoch 28/100\n",
            "16/16 [==============================] - 0s 16ms/step - loss: 0.6936 - acc: 0.4375 - val_loss: 0.6948 - val_acc: 0.5000\n",
            "Epoch 29/100\n",
            "16/16 [==============================] - 0s 15ms/step - loss: 0.6934 - acc: 0.4375 - val_loss: 0.6948 - val_acc: 0.5000\n",
            "Epoch 30/100\n",
            "16/16 [==============================] - 0s 15ms/step - loss: 0.6929 - acc: 0.6250 - val_loss: 0.6948 - val_acc: 0.5000\n",
            "Epoch 31/100\n",
            "16/16 [==============================] - 0s 16ms/step - loss: 0.6937 - acc: 0.3750 - val_loss: 0.6948 - val_acc: 0.5000\n",
            "Epoch 32/100\n",
            "16/16 [==============================] - 0s 18ms/step - loss: 0.6930 - acc: 0.5625 - val_loss: 0.6948 - val_acc: 0.5000\n",
            "Epoch 33/100\n",
            "16/16 [==============================] - 0s 21ms/step - loss: 0.6934 - acc: 0.5000 - val_loss: 0.6948 - val_acc: 0.5000\n",
            "Epoch 34/100\n",
            "16/16 [==============================] - 0s 16ms/step - loss: 0.6934 - acc: 0.4375 - val_loss: 0.6948 - val_acc: 0.5000\n",
            "Epoch 35/100\n",
            "16/16 [==============================] - 0s 16ms/step - loss: 0.6932 - acc: 0.5625 - val_loss: 0.6948 - val_acc: 0.5000\n",
            "Epoch 36/100\n",
            "16/16 [==============================] - 0s 16ms/step - loss: 0.6933 - acc: 0.4375 - val_loss: 0.6948 - val_acc: 0.5000\n",
            "Epoch 37/100\n",
            "16/16 [==============================] - 0s 22ms/step - loss: 0.6931 - acc: 0.6250 - val_loss: 0.6948 - val_acc: 0.5000\n",
            "Epoch 38/100\n",
            "16/16 [==============================] - 0s 16ms/step - loss: 0.6929 - acc: 0.5625 - val_loss: 0.6948 - val_acc: 0.5000\n",
            "Epoch 39/100\n",
            "16/16 [==============================] - 0s 17ms/step - loss: 0.6942 - acc: 0.3125 - val_loss: 0.6948 - val_acc: 0.5000\n",
            "Epoch 40/100\n",
            "16/16 [==============================] - 0s 19ms/step - loss: 0.6932 - acc: 0.5000 - val_loss: 0.6948 - val_acc: 0.5000\n",
            "Epoch 41/100\n",
            "16/16 [==============================] - 0s 18ms/step - loss: 0.6933 - acc: 0.3125 - val_loss: 0.6949 - val_acc: 0.5000\n",
            "Epoch 42/100\n",
            "16/16 [==============================] - 0s 17ms/step - loss: 0.6936 - acc: 0.3750 - val_loss: 0.6949 - val_acc: 0.5000\n",
            "Epoch 43/100\n",
            "16/16 [==============================] - 0s 17ms/step - loss: 0.6935 - acc: 0.3125 - val_loss: 0.6948 - val_acc: 0.5000\n",
            "Epoch 44/100\n",
            "16/16 [==============================] - 0s 21ms/step - loss: 0.6933 - acc: 0.3750 - val_loss: 0.6949 - val_acc: 0.5000\n",
            "Epoch 45/100\n",
            "16/16 [==============================] - 0s 17ms/step - loss: 0.6932 - acc: 0.4375 - val_loss: 0.6948 - val_acc: 0.5000\n",
            "Epoch 46/100\n",
            "16/16 [==============================] - 0s 18ms/step - loss: 0.6932 - acc: 0.5625 - val_loss: 0.6948 - val_acc: 0.5000\n",
            "Epoch 47/100\n",
            "16/16 [==============================] - 0s 16ms/step - loss: 0.6936 - acc: 0.3750 - val_loss: 0.6948 - val_acc: 0.5000\n",
            "Epoch 48/100\n",
            "16/16 [==============================] - 0s 22ms/step - loss: 0.6932 - acc: 0.3750 - val_loss: 0.6949 - val_acc: 0.5000\n",
            "Epoch 49/100\n",
            "16/16 [==============================] - 0s 17ms/step - loss: 0.6931 - acc: 0.5625 - val_loss: 0.6949 - val_acc: 0.5000\n",
            "Epoch 50/100\n",
            "16/16 [==============================] - 0s 17ms/step - loss: 0.6936 - acc: 0.3125 - val_loss: 0.6949 - val_acc: 0.5000\n",
            "Epoch 51/100\n",
            "16/16 [==============================] - 0s 19ms/step - loss: 0.6934 - acc: 0.3750 - val_loss: 0.6949 - val_acc: 0.5000\n",
            "Epoch 52/100\n",
            "16/16 [==============================] - 0s 16ms/step - loss: 0.6932 - acc: 0.4375 - val_loss: 0.6949 - val_acc: 0.5000\n",
            "Epoch 53/100\n",
            "16/16 [==============================] - 0s 16ms/step - loss: 0.6932 - acc: 0.4375 - val_loss: 0.6949 - val_acc: 0.5000\n",
            "Epoch 54/100\n",
            "16/16 [==============================] - 0s 17ms/step - loss: 0.6931 - acc: 0.5625 - val_loss: 0.6949 - val_acc: 0.5000\n",
            "Epoch 55/100\n",
            "16/16 [==============================] - 0s 22ms/step - loss: 0.6933 - acc: 0.4375 - val_loss: 0.6949 - val_acc: 0.5000\n",
            "Epoch 56/100\n",
            "16/16 [==============================] - 0s 16ms/step - loss: 0.6932 - acc: 0.4375 - val_loss: 0.6949 - val_acc: 0.5000\n",
            "Epoch 57/100\n",
            "16/16 [==============================] - 0s 16ms/step - loss: 0.6934 - acc: 0.4375 - val_loss: 0.6949 - val_acc: 0.5000\n",
            "Epoch 58/100\n",
            "16/16 [==============================] - 0s 15ms/step - loss: 0.6933 - acc: 0.5000 - val_loss: 0.6949 - val_acc: 0.5000\n",
            "Epoch 59/100\n",
            "16/16 [==============================] - 0s 16ms/step - loss: 0.6932 - acc: 0.5000 - val_loss: 0.6949 - val_acc: 0.5000\n",
            "Epoch 60/100\n",
            "16/16 [==============================] - 0s 16ms/step - loss: 0.6932 - acc: 0.5625 - val_loss: 0.6949 - val_acc: 0.5000\n",
            "Epoch 61/100\n",
            "16/16 [==============================] - 0s 17ms/step - loss: 0.6935 - acc: 0.2500 - val_loss: 0.6949 - val_acc: 0.5000\n",
            "Epoch 62/100\n",
            "16/16 [==============================] - 0s 16ms/step - loss: 0.6932 - acc: 0.5000 - val_loss: 0.6949 - val_acc: 0.5000\n",
            "Epoch 63/100\n",
            "16/16 [==============================] - 0s 16ms/step - loss: 0.6932 - acc: 0.5000 - val_loss: 0.6949 - val_acc: 0.5000\n",
            "Epoch 64/100\n",
            "16/16 [==============================] - 0s 15ms/step - loss: 0.6935 - acc: 0.2500 - val_loss: 0.6949 - val_acc: 0.5000\n",
            "Epoch 65/100\n",
            "16/16 [==============================] - 0s 16ms/step - loss: 0.6932 - acc: 0.5625 - val_loss: 0.6949 - val_acc: 0.5000\n",
            "Epoch 66/100\n",
            "16/16 [==============================] - 0s 22ms/step - loss: 0.6934 - acc: 0.4375 - val_loss: 0.6949 - val_acc: 0.5000\n",
            "Epoch 67/100\n",
            "16/16 [==============================] - 0s 16ms/step - loss: 0.6931 - acc: 0.5625 - val_loss: 0.6949 - val_acc: 0.5000\n",
            "Epoch 68/100\n",
            "16/16 [==============================] - 0s 16ms/step - loss: 0.6933 - acc: 0.5000 - val_loss: 0.6949 - val_acc: 0.5000\n",
            "Epoch 69/100\n",
            "16/16 [==============================] - 0s 18ms/step - loss: 0.6934 - acc: 0.3750 - val_loss: 0.6949 - val_acc: 0.5000\n",
            "Epoch 70/100\n",
            "16/16 [==============================] - 0s 15ms/step - loss: 0.6932 - acc: 0.3750 - val_loss: 0.6949 - val_acc: 0.5000\n",
            "Epoch 71/100\n",
            "16/16 [==============================] - 0s 15ms/step - loss: 0.6934 - acc: 0.4375 - val_loss: 0.6949 - val_acc: 0.5000\n",
            "Epoch 72/100\n",
            "16/16 [==============================] - 0s 16ms/step - loss: 0.6933 - acc: 0.4375 - val_loss: 0.6949 - val_acc: 0.5000\n",
            "Epoch 73/100\n",
            "16/16 [==============================] - 0s 21ms/step - loss: 0.6931 - acc: 0.5625 - val_loss: 0.6949 - val_acc: 0.5000\n",
            "Epoch 74/100\n",
            "16/16 [==============================] - 0s 16ms/step - loss: 0.6933 - acc: 0.4375 - val_loss: 0.6949 - val_acc: 0.5000\n",
            "Epoch 75/100\n",
            "16/16 [==============================] - 0s 16ms/step - loss: 0.6932 - acc: 0.3750 - val_loss: 0.6949 - val_acc: 0.5000\n",
            "Epoch 76/100\n",
            "16/16 [==============================] - 0s 16ms/step - loss: 0.6934 - acc: 0.3750 - val_loss: 0.6949 - val_acc: 0.5000\n",
            "Epoch 77/100\n",
            "16/16 [==============================] - 0s 21ms/step - loss: 0.6928 - acc: 0.6875 - val_loss: 0.6949 - val_acc: 0.5000\n",
            "Epoch 78/100\n",
            "16/16 [==============================] - 0s 15ms/step - loss: 0.6932 - acc: 0.5000 - val_loss: 0.6948 - val_acc: 0.5000\n",
            "Epoch 79/100\n",
            "16/16 [==============================] - 0s 17ms/step - loss: 0.6937 - acc: 0.3750 - val_loss: 0.6949 - val_acc: 0.5000\n",
            "Epoch 80/100\n",
            "16/16 [==============================] - 0s 19ms/step - loss: 0.6934 - acc: 0.3750 - val_loss: 0.6949 - val_acc: 0.5000\n",
            "Epoch 81/100\n",
            "16/16 [==============================] - 0s 17ms/step - loss: 0.6932 - acc: 0.3750 - val_loss: 0.6949 - val_acc: 0.5000\n",
            "Epoch 82/100\n",
            "16/16 [==============================] - 0s 16ms/step - loss: 0.6929 - acc: 0.6875 - val_loss: 0.6949 - val_acc: 0.5000\n",
            "Epoch 83/100\n",
            "16/16 [==============================] - 0s 18ms/step - loss: 0.6934 - acc: 0.4375 - val_loss: 0.6949 - val_acc: 0.5000\n",
            "Epoch 84/100\n",
            "16/16 [==============================] - 0s 21ms/step - loss: 0.6936 - acc: 0.3750 - val_loss: 0.6949 - val_acc: 0.5000\n",
            "Epoch 85/100\n",
            "16/16 [==============================] - 0s 16ms/step - loss: 0.6931 - acc: 0.6875 - val_loss: 0.6950 - val_acc: 0.5000\n",
            "Epoch 86/100\n",
            "16/16 [==============================] - 0s 17ms/step - loss: 0.6929 - acc: 0.5625 - val_loss: 0.6950 - val_acc: 0.5000\n",
            "Epoch 87/100\n",
            "16/16 [==============================] - 0s 15ms/step - loss: 0.6945 - acc: 0.2500 - val_loss: 0.6949 - val_acc: 0.5000\n",
            "Epoch 88/100\n",
            "16/16 [==============================] - 0s 16ms/step - loss: 0.6929 - acc: 0.6250 - val_loss: 0.6949 - val_acc: 0.5000\n",
            "Epoch 89/100\n",
            "16/16 [==============================] - 0s 18ms/step - loss: 0.6936 - acc: 0.4375 - val_loss: 0.6949 - val_acc: 0.5000\n",
            "Epoch 90/100\n",
            "16/16 [==============================] - 0s 17ms/step - loss: 0.6929 - acc: 0.5625 - val_loss: 0.6949 - val_acc: 0.5000\n",
            "Epoch 91/100\n",
            "16/16 [==============================] - 0s 22ms/step - loss: 0.6933 - acc: 0.5000 - val_loss: 0.6949 - val_acc: 0.5000\n",
            "Epoch 92/100\n",
            "16/16 [==============================] - 0s 18ms/step - loss: 0.6936 - acc: 0.2500 - val_loss: 0.6949 - val_acc: 0.5000\n",
            "Epoch 93/100\n",
            "16/16 [==============================] - 0s 18ms/step - loss: 0.6935 - acc: 0.3750 - val_loss: 0.6949 - val_acc: 0.5000\n",
            "Epoch 94/100\n",
            "16/16 [==============================] - 0s 15ms/step - loss: 0.6932 - acc: 0.4375 - val_loss: 0.6949 - val_acc: 0.5000\n",
            "Epoch 95/100\n",
            "16/16 [==============================] - 0s 22ms/step - loss: 0.6932 - acc: 0.4375 - val_loss: 0.6949 - val_acc: 0.5000\n",
            "Epoch 96/100\n",
            "16/16 [==============================] - 0s 17ms/step - loss: 0.6932 - acc: 0.5000 - val_loss: 0.6949 - val_acc: 0.5000\n",
            "Epoch 97/100\n",
            "16/16 [==============================] - 0s 17ms/step - loss: 0.6929 - acc: 0.6250 - val_loss: 0.6949 - val_acc: 0.5000\n",
            "Epoch 98/100\n",
            "16/16 [==============================] - 0s 19ms/step - loss: 0.6939 - acc: 0.2500 - val_loss: 0.6949 - val_acc: 0.5000\n",
            "Epoch 99/100\n",
            "16/16 [==============================] - 0s 17ms/step - loss: 0.6930 - acc: 0.6875 - val_loss: 0.6949 - val_acc: 0.5000\n",
            "Epoch 100/100\n",
            "16/16 [==============================] - 0s 16ms/step - loss: 0.6937 - acc: 0.3750 - val_loss: 0.6949 - val_acc: 0.5000\n"
          ],
          "name": "stdout"
        }
      ]
    },
    {
      "cell_type": "markdown",
      "metadata": {
        "id": "ql0ZFNNt2zOs",
        "colab_type": "text"
      },
      "source": [
        ""
      ]
    }
  ]
}