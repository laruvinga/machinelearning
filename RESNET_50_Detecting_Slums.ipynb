{
  "nbformat": 4,
  "nbformat_minor": 0,
  "metadata": {
    "colab": {
      "name": "RESNET 50 Detect Slums.ipynb",
      "version": "0.3.2",
      "provenance": [],
      "include_colab_link": true
    },
    "kernelspec": {
      "name": "python3",
      "display_name": "Python 3"
    },
    "accelerator": "GPU"
  },
  "cells": [
    {
      "cell_type": "markdown",
      "metadata": {
        "id": "view-in-github",
        "colab_type": "text"
      },
      "source": [
        "<a href=\"https://colab.research.google.com/github/laruvinga/machinelearning/blob/master/RESNET_50_Detecting_Slums.ipynb\" target=\"_parent\"><img src=\"https://colab.research.google.com/assets/colab-badge.svg\" alt=\"Open In Colab\"/></a>"
      ]
    },
    {
      "cell_type": "code",
      "metadata": {
        "id": "55TLupO5fGlt",
        "colab_type": "code",
        "colab": {}
      },
      "source": [
        "from glob import glob\n",
        "import os\n",
        "import shutil\n",
        "import numpy as np\n",
        "import pandas as pd\n",
        "import random\n",
        "from skimage.io import imread\n",
        "import tensorflow as tf\n",
        "\n",
        "import matplotlib.pyplot as plt\n",
        "%matplotlib inline\n",
        "\n",
        "from tensorflow.python.keras.applications import ResNet50\n",
        "from tensorflow.python.keras.applications.resnet50 import preprocess_input, decode_predictions\n",
        "from tensorflow.python.keras.models import Sequential\n",
        "from tensorflow.python.keras.layers import Dense, Flatten, GlobalAveragePooling2D\n",
        "from tensorflow.python.keras.preprocessing.image import ImageDataGenerator, img_to_array, load_img"
      ],
      "execution_count": 0,
      "outputs": []
    },
    {
      "cell_type": "code",
      "metadata": {
        "id": "AUbOsQoCrPEb",
        "colab_type": "code",
        "outputId": "1f2de84e-736e-4b95-b5f2-973b3fc4eef7",
        "colab": {
          "base_uri": "https://localhost:8080/",
          "height": 122
        }
      },
      "source": [
        "from google.colab import drive\n",
        "drive.mount('/content/drive')"
      ],
      "execution_count": 0,
      "outputs": [
        {
          "output_type": "stream",
          "text": [
            "Go to this URL in a browser: https://accounts.google.com/o/oauth2/auth?client_id=947318989803-6bn6qk8qdgf4n4g3pfee6491hc0brc4i.apps.googleusercontent.com&redirect_uri=urn%3Aietf%3Awg%3Aoauth%3A2.0%3Aoob&scope=email%20https%3A%2F%2Fwww.googleapis.com%2Fauth%2Fdocs.test%20https%3A%2F%2Fwww.googleapis.com%2Fauth%2Fdrive%20https%3A%2F%2Fwww.googleapis.com%2Fauth%2Fdrive.photos.readonly%20https%3A%2F%2Fwww.googleapis.com%2Fauth%2Fpeopleapi.readonly&response_type=code\n",
            "\n",
            "Enter your authorization code:\n",
            "··········\n",
            "Mounted at /content/drive\n"
          ],
          "name": "stdout"
        }
      ]
    },
    {
      "cell_type": "code",
      "metadata": {
        "id": "VjLezeHXiWLK",
        "colab_type": "code",
        "colab": {}
      },
      "source": [
        "# Define constants\n",
        "\n",
        "num_classes = 2\n",
        "tmp_dir = \"/tmp\"\n",
        "resnet_weights_path = tmp_dir + \"/resnet50_weights_tf_dim_ordering_tf_kernels_notop.h5\"\n",
        "resnet_weights_url = 'https://github.com/fchollet/deep-learning-models/releases/download/v0.2/resnet50_weights_tf_dim_ordering_tf_kernels_notop.h5'"
      ],
      "execution_count": 0,
      "outputs": []
    },
    {
      "cell_type": "code",
      "metadata": {
        "id": "75gK6v9SrZSx",
        "colab_type": "code",
        "colab": {}
      },
      "source": [
        "dataset_dir = \"/content/drive/My Drive/SatelliteML/Test_100\"\n",
        "dataset_train = dataset_dir + \"/unbalanced_train.tar\"\n",
        "dataset_validation = dataset_dir + \"/unbalanced_validation.tar\"\n",
        "dataset_test = dataset_dir + \"/unbalanced_test.tar\"\n",
        "train_dir = tmp_dir + \"/dataset_train\";\n",
        "valid_dir = tmp_dir + \"/dataset_valid\";\n",
        "test_dir = tmp_dir + \"/dataset_test\";\n",
        "trained_weights_path = dataset_dir + \"/resnet50_weights_trained.h5\"\n",
        "# dataset_url = \"https://github.com/laruvinga/machinelearning/raw/master/byo_ngozi.tar.bz2\""
      ],
      "execution_count": 0,
      "outputs": []
    },
    {
      "cell_type": "code",
      "metadata": {
        "id": "7739QN9Fg-wU",
        "colab_type": "code",
        "outputId": "70f63e20-7425-40a2-eff0-75ef49de6fe7",
        "colab": {
          "base_uri": "https://localhost:8080/",
          "height": 34
        }
      },
      "source": [
        "# Get Files\n",
        "tf.keras.utils.get_file(resnet_weights_path, resnet_weights_url)"
      ],
      "execution_count": 0,
      "outputs": [
        {
          "output_type": "execute_result",
          "data": {
            "text/plain": [
              "'/tmp/resnet50_weights_tf_dim_ordering_tf_kernels_notop.h5'"
            ]
          },
          "metadata": {
            "tags": []
          },
          "execution_count": 6
        }
      ]
    },
    {
      "cell_type": "code",
      "metadata": {
        "id": "kaaf2xx5nhWY",
        "colab_type": "code",
        "colab": {}
      },
      "source": [
        "# Extract dataset\n",
        "shutil.unpack_archive(dataset_train, train_dir, \"tar\")\n",
        "shutil.unpack_archive(dataset_validation, valid_dir, \"tar\")\n",
        "shutil.unpack_archive(dataset_test, test_dir, \"tar\")"
      ],
      "execution_count": 0,
      "outputs": []
    },
    {
      "cell_type": "code",
      "metadata": {
        "id": "YmGEVn77g2tq",
        "colab_type": "code",
        "outputId": "6f0c252b-0b76-4926-d94c-72eef48edf04",
        "colab": {
          "base_uri": "https://localhost:8080/",
          "height": 105
        }
      },
      "source": [
        "# Create model\n",
        "model = Sequential()\n",
        "model.add(ResNet50(include_top=False, pooling='avg', weights=resnet_weights_path))\n",
        "model.add(Dense(num_classes, activation='softmax'))\n",
        "model.layers[0].trainable = False\n",
        "model.compile(optimizer='sgd', loss='categorical_crossentropy', metrics=['accuracy'])"
      ],
      "execution_count": 0,
      "outputs": [
        {
          "output_type": "stream",
          "text": [
            "WARNING: Logging before flag parsing goes to stderr.\n",
            "W0903 02:15:45.339144 139982552590208 deprecation.py:506] From /usr/local/lib/python3.6/dist-packages/tensorflow/python/ops/init_ops.py:1251: calling VarianceScaling.__init__ (from tensorflow.python.ops.init_ops) with dtype is deprecated and will be removed in a future version.\n",
            "Instructions for updating:\n",
            "Call initializer instance with the dtype argument instead of passing it to the constructor\n"
          ],
          "name": "stderr"
        }
      ]
    },
    {
      "cell_type": "code",
      "metadata": {
        "id": "xDM6LsKhls6Z",
        "colab_type": "code",
        "outputId": "f5f4a764-6f9d-4de4-b9bf-2486568f1973",
        "colab": {
          "base_uri": "https://localhost:8080/",
          "height": 462
        }
      },
      "source": [
        "image_size = 150\n",
        "nb_train_samples = 5216 # number of files in training set\n",
        "batch_size = 16\n",
        "\n",
        "EPOCHS = 10\n",
        "STEPS = nb_train_samples / batch_size\n",
        "\n",
        "## Specify the values for all arguments to data_generator_with_aug.\n",
        "data_generator_with_aug = ImageDataGenerator(preprocessing_function=preprocess_input,\n",
        "                                             horizontal_flip = True,\n",
        "                                             width_shift_range = 0.2,\n",
        "                                             height_shift_range = 0.2,\n",
        "                                             shear_range = 0.2,\n",
        "                                             zoom_range = 0.2\n",
        "                                            )\n",
        "            \n",
        "data_generator_no_aug = ImageDataGenerator(preprocessing_function=preprocess_input)\n",
        "\n",
        "train_generator = data_generator_with_aug.flow_from_directory(\n",
        "       directory = train_dir,\n",
        "       target_size = (image_size, image_size),\n",
        "       batch_size = batch_size,\n",
        "       class_mode = 'categorical')\n",
        "\n",
        "validation_generator = data_generator_no_aug.flow_from_directory(\n",
        "       directory = valid_dir,\n",
        "       target_size = (image_size, image_size),\n",
        "       class_mode = 'categorical')\n",
        "\n",
        "test_generator = data_generator_no_aug.flow_from_directory(\n",
        "       directory = test_dir,\n",
        "       target_size = (image_size, image_size),\n",
        "       batch_size = batch_size,\n",
        "       class_mode = 'categorical')\n",
        "\n",
        "model.fit_generator(\n",
        "       train_generator, # specify where model gets training data\n",
        "       epochs = EPOCHS,\n",
        "       steps_per_epoch=STEPS,\n",
        "       validation_data=validation_generator) # specify where model gets validation data\n",
        "\n",
        "# Evaluate the model\n",
        "scores = model.evaluate_generator(train_generator)\n",
        "print(\"\\n%s: %.2f%%\" % (model.metrics_names[1], scores[1]*100))"
      ],
      "execution_count": 0,
      "outputs": [
        {
          "output_type": "stream",
          "text": [
            "Found 45368 images belonging to 2 classes.\n",
            "Found 5661 images belonging to 2 classes.\n",
            "Found 5631 images belonging to 2 classes.\n",
            "Epoch 1/10\n",
            "326/326 [==============================] - 69s 213ms/step - loss: 0.0662 - acc: 0.9893 - val_loss: 0.0707 - val_acc: 0.9910\n",
            "Epoch 2/10\n",
            "326/326 [==============================] - 62s 190ms/step - loss: 0.0412 - acc: 0.9919 - val_loss: 0.0591 - val_acc: 0.9912\n",
            "Epoch 3/10\n",
            "326/326 [==============================] - 63s 192ms/step - loss: 0.0361 - acc: 0.9921 - val_loss: 0.0769 - val_acc: 0.9896\n",
            "Epoch 4/10\n",
            "326/326 [==============================] - 62s 191ms/step - loss: 0.0443 - acc: 0.9893 - val_loss: 0.0666 - val_acc: 0.9899\n",
            "Epoch 5/10\n",
            "326/326 [==============================] - 62s 190ms/step - loss: 0.0364 - acc: 0.9919 - val_loss: 0.0754 - val_acc: 0.9883\n",
            "Epoch 6/10\n",
            "326/326 [==============================] - 62s 190ms/step - loss: 0.0359 - acc: 0.9891 - val_loss: 0.0759 - val_acc: 0.9885\n",
            "Epoch 7/10\n",
            "326/326 [==============================] - 62s 190ms/step - loss: 0.0360 - acc: 0.9900 - val_loss: 0.0912 - val_acc: 0.9839\n",
            "Epoch 8/10\n",
            "326/326 [==============================] - 62s 191ms/step - loss: 0.0308 - acc: 0.9931 - val_loss: 0.0768 - val_acc: 0.9871\n",
            "Epoch 9/10\n",
            "326/326 [==============================] - 62s 189ms/step - loss: 0.0394 - acc: 0.9908 - val_loss: 0.0747 - val_acc: 0.9885\n",
            "Epoch 10/10\n",
            "326/326 [==============================] - 62s 189ms/step - loss: 0.0361 - acc: 0.9908 - val_loss: 0.0567 - val_acc: 0.9912\n",
            "\n",
            "acc: 99.12%\n"
          ],
          "name": "stdout"
        }
      ]
    },
    {
      "cell_type": "code",
      "metadata": {
        "id": "4wmYZybOzKmm",
        "colab_type": "code",
        "colab": {}
      },
      "source": [
        "model.save(trained_weights_path, overwrite=True)"
      ],
      "execution_count": 0,
      "outputs": []
    },
    {
      "cell_type": "code",
      "metadata": {
        "id": "FjUMmjNdzwOn",
        "colab_type": "code",
        "outputId": "2f62531d-094b-4114-ada5-f99b45693fe9",
        "colab": {
          "base_uri": "https://localhost:8080/"
        }
      },
      "source": [
        "# Accuracy \n",
        "plt.plot(model.history.history['acc'])\n",
        "plt.plot(model.history.history['val_acc'])\n",
        "plt.title('Model Accuracy')\n",
        "plt.ylabel('Accuracy')\n",
        "plt.xlabel('Epoch')\n",
        "plt.legend(['Training set', 'Validation set'], loc='upper left')\n",
        "plt.show()"
      ],
      "execution_count": 0,
      "outputs": [
        {
          "output_type": "display_data",
          "data": {
            "image/png": "[encoded data removed]",
            "text/plain": [
              "<Figure size 432x288 with 1 Axes>"
            ]
          },
          "metadata": {
            "tags": []
          }
        }
      ]
    },
    {
      "cell_type": "code",
      "metadata": {
        "id": "D6hATDm20EYE",
        "colab_type": "code",
        "outputId": "ab088ef4-4657-4111-e735-ce01d67fcf48",
        "colab": {
          "base_uri": "https://localhost:8080/"
        }
      },
      "source": [
        "# Loss \n",
        "plt.plot(model.history.history['loss'])\n",
        "plt.plot(model.history.history['val_loss'])\n",
        "plt.title('Model Loss')\n",
        "plt.ylabel('Loss')\n",
        "plt.xlabel('Epoch')\n",
        "plt.legend(['Training set', 'Test set'], loc='upper left')\n",
        "plt.show()"
      ],
      "execution_count": 0,
      "outputs": [
        {
          "output_type": "display_data",
          "data": {
            "image/png": "[encoded data removed]",
            "text/plain": [
              "<Figure size 432x288 with 1 Axes>"
            ]
          },
          "metadata": {
            "tags": []
          }
        }
      ]
    }
  ]
}