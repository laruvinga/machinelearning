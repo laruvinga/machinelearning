{
  "nbformat": 4,
  "nbformat_minor": 0,
  "metadata": {
    "colab": {
      "name": "RESNET 50 Detect Slums.ipynb",
      "version": "0.3.2",
      "provenance": [],
      "include_colab_link": true
    },
    "kernelspec": {
      "name": "python3",
      "display_name": "Python 3"
    },
    "accelerator": "GPU"
  },
  "cells": [
    {
      "cell_type": "markdown",
      "metadata": {
        "id": "view-in-github",
        "colab_type": "text"
      },
      "source": [
        "<a href=\"https://colab.research.google.com/github/laruvinga/machinelearning/blob/master/RESNET_50_Detect_Slums.ipynb\" target=\"_parent\"><img src=\"https://colab.research.google.com/assets/colab-badge.svg\" alt=\"Open In Colab\"/></a>"
      ]
    },
    {
      "cell_type": "code",
      "metadata": {
        "id": "55TLupO5fGlt",
        "colab_type": "code",
        "colab": {}
      },
      "source": [
        "from glob import glob\n",
        "import os\n",
        "import shutil\n",
        "import numpy as np\n",
        "import pandas as pd\n",
        "import random\n",
        "from skimage.io import imread\n",
        "import tensorflow as tf\n",
        "\n",
        "import matplotlib.pyplot as plt\n",
        "%matplotlib inline\n",
        "\n",
        "from tensorflow.python.keras.applications import ResNet50\n",
        "from tensorflow.python.keras.applications.resnet50 import preprocess_input, decode_predictions\n",
        "from tensorflow.python.keras.models import Sequential\n",
        "from tensorflow.python.keras.layers import Dense, Flatten, GlobalAveragePooling2D\n",
        "from tensorflow.python.keras.preprocessing.image import ImageDataGenerator, img_to_array, load_img"
      ],
      "execution_count": 0,
      "outputs": []
    },
    {
      "cell_type": "code",
      "metadata": {
        "id": "AUbOsQoCrPEb",
        "colab_type": "code",
        "colab": {
          "base_uri": "https://localhost:8080/",
          "height": 122
        },
        "outputId": "0d5d289e-f458-4be0-ed53-8d7193848ebc"
      },
      "source": [
        "from google.colab import drive\n",
        "drive.mount('/content/drive')"
      ],
      "execution_count": 8,
      "outputs": [
        {
          "output_type": "stream",
          "text": [
            "Go to this URL in a browser: https://accounts.google.com/o/oauth2/auth?client_id=947318989803-6bn6qk8qdgf4n4g3pfee6491hc0brc4i.apps.googleusercontent.com&redirect_uri=urn%3Aietf%3Awg%3Aoauth%3A2.0%3Aoob&scope=email%20https%3A%2F%2Fwww.googleapis.com%2Fauth%2Fdocs.test%20https%3A%2F%2Fwww.googleapis.com%2Fauth%2Fdrive%20https%3A%2F%2Fwww.googleapis.com%2Fauth%2Fdrive.photos.readonly%20https%3A%2F%2Fwww.googleapis.com%2Fauth%2Fpeopleapi.readonly&response_type=code\n",
            "\n",
            "Enter your authorization code:\n",
            "··········\n",
            "Mounted at /content/drive\n"
          ],
          "name": "stdout"
        }
      ]
    },
    {
      "cell_type": "code",
      "metadata": {
        "id": "VjLezeHXiWLK",
        "colab_type": "code",
        "colab": {}
      },
      "source": [
        "# Define constants\n",
        "\n",
        "num_classes = 2\n",
        "tmp_dir = \"/tmp\"\n",
        "resnet_weights_path = tmp_dir + \"/resnet50_weights_tf_dim_ordering_tf_kernels_notop.h5\"\n",
        "resnet_weights_url = 'https://github.com/fchollet/deep-learning-models/releases/download/v0.2/resnet50_weights_tf_dim_ordering_tf_kernels_notop.h5'"
      ],
      "execution_count": 0,
      "outputs": []
    },
    {
      "cell_type": "code",
      "metadata": {
        "id": "75gK6v9SrZSx",
        "colab_type": "code",
        "colab": {}
      },
      "source": [
        "dataset_dir = \"/content/drive/My Drive/SatelliteML/Test_100\"\n",
        "dataset_train = dataset_dir + \"/unbalanced_train.tar\"\n",
        "dataset_validation = dataset_dir + \"/unbalanced_validation.tar\"\n",
        "dataset_test = dataset_dir + \"/unbalanced_test.tar\"\n",
        "train_dir = tmp_dir + \"/dataset_train\";\n",
        "valid_dir = tmp_dir + \"/dataset_valid\";\n",
        "test_dir = tmp_dir + \"/dataset_test\";\n",
        "# dataset_url = \"https://github.com/laruvinga/machinelearning/raw/master/byo_ngozi.tar.bz2\""
      ],
      "execution_count": 0,
      "outputs": []
    },
    {
      "cell_type": "code",
      "metadata": {
        "id": "7739QN9Fg-wU",
        "colab_type": "code",
        "colab": {
          "base_uri": "https://localhost:8080/",
          "height": 34
        },
        "outputId": "f95ba4a3-b84b-4190-985f-fb3f2ac4b751"
      },
      "source": [
        "# Get Files\n",
        "tf.keras.utils.get_file(resnet_weights_path, resnet_weights_url)\n",
        "tf.keras.utils.get_file(dataset, dataset_url)"
      ],
      "execution_count": 11,
      "outputs": [
        {
          "output_type": "execute_result",
          "data": {
            "text/plain": [
              "'/tmp/byo_ngozi.tar.bz2'"
            ]
          },
          "metadata": {
            "tags": []
          },
          "execution_count": 11
        }
      ]
    },
    {
      "cell_type": "code",
      "metadata": {
        "id": "kaaf2xx5nhWY",
        "colab_type": "code",
        "colab": {}
      },
      "source": [
        "# Extract dataset\n",
        "shutil.unpack_archive(dataset_train, train_dir, \"tar\")\n",
        "shutil.unpack_archive(dataset_validation, valid_dir, \"tar\")\n",
        "shutil.unpack_archive(dataset_test, test_dir, \"tar\")"
      ],
      "execution_count": 0,
      "outputs": []
    },
    {
      "cell_type": "code",
      "metadata": {
        "id": "YmGEVn77g2tq",
        "colab_type": "code",
        "colab": {}
      },
      "source": [
        "# Create model\n",
        "model = Sequential()\n",
        "model.add(ResNet50(include_top=False, pooling='avg', weights=resnet_weights_path))\n",
        "model.add(Dense(num_classes, activation='softmax'))\n",
        "model.layers[0].trainable = False\n",
        "model.compile(optimizer='sgd', loss='categorical_crossentropy', metrics=['accuracy'])"
      ],
      "execution_count": 0,
      "outputs": []
    },
    {
      "cell_type": "code",
      "metadata": {
        "id": "xDM6LsKhls6Z",
        "colab_type": "code",
        "colab": {
          "base_uri": "https://localhost:8080/",
          "height": 306
        },
        "outputId": "3f64abb0-7e55-45a0-8d98-71b82afa57c1"
      },
      "source": [
        "image_size = 150\n",
        "nb_train_samples = 5661 # number of files in training set\n",
        "batch_size = 16\n",
        "\n",
        "EPOCHS = 6\n",
        "STEPS = nb_train_samples / batch_size\n",
        "\n",
        "## Specify the values for all arguments to data_generator_with_aug.\n",
        "data_generator_with_aug = ImageDataGenerator(preprocessing_function=preprocess_input,\n",
        "                                             horizontal_flip = True,\n",
        "                                             width_shift_range = 0.2,\n",
        "                                             height_shift_range = 0.2,\n",
        "                                             shear_range = 0.2,\n",
        "                                             zoom_range = 0.2\n",
        "                                            )\n",
        "            \n",
        "data_generator_no_aug = ImageDataGenerator(preprocessing_function=preprocess_input)\n",
        "\n",
        "train_generator = data_generator_with_aug.flow_from_directory(\n",
        "       directory = train_dir,\n",
        "       target_size = (image_size, image_size),\n",
        "       batch_size = batch_size,\n",
        "       class_mode = 'categorical')\n",
        "\n",
        "validation_generator = data_generator_no_aug.flow_from_directory(\n",
        "       directory = valid_dir,\n",
        "       target_size = (image_size, image_size),\n",
        "       class_mode = 'categorical')\n",
        "\n",
        "test_generator = data_generator_no_aug.flow_from_directory(\n",
        "       directory = test_dir,\n",
        "       target_size = (image_size, image_size),\n",
        "       batch_size = batch_size,\n",
        "       class_mode = 'categorical')\n",
        "\n",
        "model.fit_generator(\n",
        "       train_generator, # specify where model gets training data\n",
        "       epochs = EPOCHS,\n",
        "       steps_per_epoch=STEPS,\n",
        "       validation_data=validation_generator) # specify where model gets validation data\n",
        "\n",
        "# Evaluate the model\n",
        "scores = model.evaluate_generator(test_generator)\n",
        "print(\"\\n%s: %.2f%%\" % (model.metrics_names[1], scores[1]*100))"
      ],
      "execution_count": 15,
      "outputs": [
        {
          "output_type": "stream",
          "text": [
            "Found 45368 images belonging to 2 classes.\n",
            "Found 5661 images belonging to 2 classes.\n",
            "Found 5631 images belonging to 2 classes.\n",
            "Epoch 1/6\n",
            "326/326 [==============================] - 69s 211ms/step - loss: 0.0617 - acc: 0.9891 - val_loss: 0.0791 - val_acc: 0.9908\n",
            "Epoch 2/6\n",
            "326/326 [==============================] - 63s 194ms/step - loss: 0.0333 - acc: 0.9939 - val_loss: 0.0785 - val_acc: 0.9906\n",
            "Epoch 3/6\n",
            "326/326 [==============================] - 63s 194ms/step - loss: 0.0426 - acc: 0.9908 - val_loss: 0.1011 - val_acc: 0.9841\n",
            "Epoch 4/6\n",
            "326/326 [==============================] - 63s 194ms/step - loss: 0.0455 - acc: 0.9885 - val_loss: 0.0755 - val_acc: 0.9887\n",
            "Epoch 5/6\n",
            "326/326 [==============================] - 64s 196ms/step - loss: 0.0403 - acc: 0.9895 - val_loss: 0.0737 - val_acc: 0.9889\n",
            "Epoch 6/6\n",
            "326/326 [==============================] - 64s 195ms/step - loss: 0.0386 - acc: 0.9910 - val_loss: 0.0574 - val_acc: 0.9912\n",
            "\n",
            "acc: 99.12%\n"
          ],
          "name": "stdout"
        }
      ]
    }
  ]
}